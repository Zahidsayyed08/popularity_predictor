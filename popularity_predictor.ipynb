{
 "cells": [
  {
   "cell_type": "code",
   "execution_count": 1,
   "id": "4a09c839",
   "metadata": {},
   "outputs": [],
   "source": [
    "import pandas as pd\n",
    "import numpy as np\n",
    "songs = pd.read_csv('tracks.csv')\n",
    "songs_1=songs.copy()"
   ]
  },
  {
   "cell_type": "code",
   "execution_count": 2,
   "id": "8480ec3f",
   "metadata": {},
   "outputs": [
    {
     "data": {
      "text/html": [
       "<div>\n",
       "<style scoped>\n",
       "    .dataframe tbody tr th:only-of-type {\n",
       "        vertical-align: middle;\n",
       "    }\n",
       "\n",
       "    .dataframe tbody tr th {\n",
       "        vertical-align: top;\n",
       "    }\n",
       "\n",
       "    .dataframe thead th {\n",
       "        text-align: right;\n",
       "    }\n",
       "</style>\n",
       "<table border=\"1\" class=\"dataframe\">\n",
       "  <thead>\n",
       "    <tr style=\"text-align: right;\">\n",
       "      <th></th>\n",
       "      <th>id</th>\n",
       "      <th>name</th>\n",
       "      <th>popularity</th>\n",
       "      <th>duration_ms</th>\n",
       "      <th>explicit</th>\n",
       "      <th>artists</th>\n",
       "      <th>id_artists</th>\n",
       "      <th>release_date</th>\n",
       "      <th>danceability</th>\n",
       "      <th>energy</th>\n",
       "      <th>key</th>\n",
       "      <th>loudness</th>\n",
       "      <th>mode</th>\n",
       "      <th>speechiness</th>\n",
       "      <th>acousticness</th>\n",
       "      <th>instrumentalness</th>\n",
       "      <th>liveness</th>\n",
       "      <th>valence</th>\n",
       "      <th>tempo</th>\n",
       "      <th>time_signature</th>\n",
       "    </tr>\n",
       "  </thead>\n",
       "  <tbody>\n",
       "    <tr>\n",
       "      <th>0</th>\n",
       "      <td>35iwgR4jXetI318WEWsa1Q</td>\n",
       "      <td>Carve</td>\n",
       "      <td>6</td>\n",
       "      <td>126903</td>\n",
       "      <td>0</td>\n",
       "      <td>['Uli']</td>\n",
       "      <td>['45tIt06XoI0Iio4LBEVpls']</td>\n",
       "      <td>1922-02-22</td>\n",
       "      <td>0.645</td>\n",
       "      <td>0.4450</td>\n",
       "      <td>0</td>\n",
       "      <td>-13.338</td>\n",
       "      <td>1</td>\n",
       "      <td>0.4510</td>\n",
       "      <td>0.674</td>\n",
       "      <td>0.7440</td>\n",
       "      <td>0.151</td>\n",
       "      <td>0.127</td>\n",
       "      <td>104.851</td>\n",
       "      <td>3</td>\n",
       "    </tr>\n",
       "    <tr>\n",
       "      <th>1</th>\n",
       "      <td>021ht4sdgPcrDgSk7JTbKY</td>\n",
       "      <td>Capítulo 2.16 - Banquero Anarquista</td>\n",
       "      <td>0</td>\n",
       "      <td>98200</td>\n",
       "      <td>0</td>\n",
       "      <td>['Fernando Pessoa']</td>\n",
       "      <td>['14jtPCOoNZwquk5wd9DxrY']</td>\n",
       "      <td>1922-06-01</td>\n",
       "      <td>0.695</td>\n",
       "      <td>0.2630</td>\n",
       "      <td>0</td>\n",
       "      <td>-22.136</td>\n",
       "      <td>1</td>\n",
       "      <td>0.9570</td>\n",
       "      <td>0.797</td>\n",
       "      <td>0.0000</td>\n",
       "      <td>0.148</td>\n",
       "      <td>0.655</td>\n",
       "      <td>102.009</td>\n",
       "      <td>1</td>\n",
       "    </tr>\n",
       "    <tr>\n",
       "      <th>2</th>\n",
       "      <td>07A5yehtSnoedViJAZkNnc</td>\n",
       "      <td>Vivo para Quererte - Remasterizado</td>\n",
       "      <td>0</td>\n",
       "      <td>181640</td>\n",
       "      <td>0</td>\n",
       "      <td>['Ignacio Corsini']</td>\n",
       "      <td>['5LiOoJbxVSAMkBS2fUm3X2']</td>\n",
       "      <td>1922-03-21</td>\n",
       "      <td>0.434</td>\n",
       "      <td>0.1770</td>\n",
       "      <td>1</td>\n",
       "      <td>-21.180</td>\n",
       "      <td>1</td>\n",
       "      <td>0.0512</td>\n",
       "      <td>0.994</td>\n",
       "      <td>0.0218</td>\n",
       "      <td>0.212</td>\n",
       "      <td>0.457</td>\n",
       "      <td>130.418</td>\n",
       "      <td>5</td>\n",
       "    </tr>\n",
       "    <tr>\n",
       "      <th>3</th>\n",
       "      <td>08FmqUhxtyLTn6pAh6bk45</td>\n",
       "      <td>El Prisionero - Remasterizado</td>\n",
       "      <td>0</td>\n",
       "      <td>176907</td>\n",
       "      <td>0</td>\n",
       "      <td>['Ignacio Corsini']</td>\n",
       "      <td>['5LiOoJbxVSAMkBS2fUm3X2']</td>\n",
       "      <td>1922-03-21</td>\n",
       "      <td>0.321</td>\n",
       "      <td>0.0946</td>\n",
       "      <td>7</td>\n",
       "      <td>-27.961</td>\n",
       "      <td>1</td>\n",
       "      <td>0.0504</td>\n",
       "      <td>0.995</td>\n",
       "      <td>0.9180</td>\n",
       "      <td>0.104</td>\n",
       "      <td>0.397</td>\n",
       "      <td>169.980</td>\n",
       "      <td>3</td>\n",
       "    </tr>\n",
       "    <tr>\n",
       "      <th>4</th>\n",
       "      <td>08y9GfoqCWfOGsKdwojr5e</td>\n",
       "      <td>Lady of the Evening</td>\n",
       "      <td>0</td>\n",
       "      <td>163080</td>\n",
       "      <td>0</td>\n",
       "      <td>['Dick Haymes']</td>\n",
       "      <td>['3BiJGZsyX9sJchTqcSA7Su']</td>\n",
       "      <td>1922</td>\n",
       "      <td>0.402</td>\n",
       "      <td>0.1580</td>\n",
       "      <td>3</td>\n",
       "      <td>-16.900</td>\n",
       "      <td>0</td>\n",
       "      <td>0.0390</td>\n",
       "      <td>0.989</td>\n",
       "      <td>0.1300</td>\n",
       "      <td>0.311</td>\n",
       "      <td>0.196</td>\n",
       "      <td>103.220</td>\n",
       "      <td>4</td>\n",
       "    </tr>\n",
       "  </tbody>\n",
       "</table>\n",
       "</div>"
      ],
      "text/plain": [
       "                       id                                 name  popularity  \\\n",
       "0  35iwgR4jXetI318WEWsa1Q                                Carve           6   \n",
       "1  021ht4sdgPcrDgSk7JTbKY  Capítulo 2.16 - Banquero Anarquista           0   \n",
       "2  07A5yehtSnoedViJAZkNnc   Vivo para Quererte - Remasterizado           0   \n",
       "3  08FmqUhxtyLTn6pAh6bk45        El Prisionero - Remasterizado           0   \n",
       "4  08y9GfoqCWfOGsKdwojr5e                  Lady of the Evening           0   \n",
       "\n",
       "   duration_ms  explicit              artists                  id_artists  \\\n",
       "0       126903         0              ['Uli']  ['45tIt06XoI0Iio4LBEVpls']   \n",
       "1        98200         0  ['Fernando Pessoa']  ['14jtPCOoNZwquk5wd9DxrY']   \n",
       "2       181640         0  ['Ignacio Corsini']  ['5LiOoJbxVSAMkBS2fUm3X2']   \n",
       "3       176907         0  ['Ignacio Corsini']  ['5LiOoJbxVSAMkBS2fUm3X2']   \n",
       "4       163080         0      ['Dick Haymes']  ['3BiJGZsyX9sJchTqcSA7Su']   \n",
       "\n",
       "  release_date  danceability  energy  key  loudness  mode  speechiness  \\\n",
       "0   1922-02-22         0.645  0.4450    0   -13.338     1       0.4510   \n",
       "1   1922-06-01         0.695  0.2630    0   -22.136     1       0.9570   \n",
       "2   1922-03-21         0.434  0.1770    1   -21.180     1       0.0512   \n",
       "3   1922-03-21         0.321  0.0946    7   -27.961     1       0.0504   \n",
       "4         1922         0.402  0.1580    3   -16.900     0       0.0390   \n",
       "\n",
       "   acousticness  instrumentalness  liveness  valence    tempo  time_signature  \n",
       "0         0.674            0.7440     0.151    0.127  104.851               3  \n",
       "1         0.797            0.0000     0.148    0.655  102.009               1  \n",
       "2         0.994            0.0218     0.212    0.457  130.418               5  \n",
       "3         0.995            0.9180     0.104    0.397  169.980               3  \n",
       "4         0.989            0.1300     0.311    0.196  103.220               4  "
      ]
     },
     "execution_count": 2,
     "metadata": {},
     "output_type": "execute_result"
    }
   ],
   "source": [
    "songs_1.head()"
   ]
  },
  {
   "cell_type": "code",
   "execution_count": 3,
   "id": "22743d4b",
   "metadata": {},
   "outputs": [
    {
     "data": {
      "text/plain": [
       "(586672, 20)"
      ]
     },
     "execution_count": 3,
     "metadata": {},
     "output_type": "execute_result"
    }
   ],
   "source": [
    "songs_1.shape"
   ]
  },
  {
   "cell_type": "code",
   "execution_count": 4,
   "id": "20d2de70",
   "metadata": {},
   "outputs": [
    {
     "data": {
      "text/plain": [
       "(10000, 20)"
      ]
     },
     "execution_count": 4,
     "metadata": {},
     "output_type": "execute_result"
    }
   ],
   "source": [
    "songs_1=songs_1.iloc[:10000]\n",
    "songs_1.shape"
   ]
  },
  {
   "cell_type": "code",
   "execution_count": 5,
   "id": "d0431a95",
   "metadata": {},
   "outputs": [],
   "source": [
    "songs_1.drop(['id','name','id_artists','release_date','artists'],axis=1, inplace=True)"
   ]
  },
  {
   "cell_type": "code",
   "execution_count": 6,
   "id": "f0a3be34",
   "metadata": {},
   "outputs": [
    {
     "data": {
      "text/html": [
       "<div>\n",
       "<style scoped>\n",
       "    .dataframe tbody tr th:only-of-type {\n",
       "        vertical-align: middle;\n",
       "    }\n",
       "\n",
       "    .dataframe tbody tr th {\n",
       "        vertical-align: top;\n",
       "    }\n",
       "\n",
       "    .dataframe thead th {\n",
       "        text-align: right;\n",
       "    }\n",
       "</style>\n",
       "<table border=\"1\" class=\"dataframe\">\n",
       "  <thead>\n",
       "    <tr style=\"text-align: right;\">\n",
       "      <th></th>\n",
       "      <th>popularity</th>\n",
       "      <th>duration_ms</th>\n",
       "      <th>explicit</th>\n",
       "      <th>danceability</th>\n",
       "      <th>energy</th>\n",
       "      <th>key</th>\n",
       "      <th>loudness</th>\n",
       "      <th>mode</th>\n",
       "      <th>speechiness</th>\n",
       "      <th>acousticness</th>\n",
       "      <th>instrumentalness</th>\n",
       "      <th>liveness</th>\n",
       "      <th>valence</th>\n",
       "      <th>tempo</th>\n",
       "      <th>time_signature</th>\n",
       "    </tr>\n",
       "  </thead>\n",
       "  <tbody>\n",
       "    <tr>\n",
       "      <th>0</th>\n",
       "      <td>6</td>\n",
       "      <td>126903</td>\n",
       "      <td>0</td>\n",
       "      <td>0.645</td>\n",
       "      <td>0.4450</td>\n",
       "      <td>0</td>\n",
       "      <td>-13.338</td>\n",
       "      <td>1</td>\n",
       "      <td>0.4510</td>\n",
       "      <td>0.674</td>\n",
       "      <td>0.7440</td>\n",
       "      <td>0.151</td>\n",
       "      <td>0.127</td>\n",
       "      <td>104.851</td>\n",
       "      <td>3</td>\n",
       "    </tr>\n",
       "    <tr>\n",
       "      <th>1</th>\n",
       "      <td>0</td>\n",
       "      <td>98200</td>\n",
       "      <td>0</td>\n",
       "      <td>0.695</td>\n",
       "      <td>0.2630</td>\n",
       "      <td>0</td>\n",
       "      <td>-22.136</td>\n",
       "      <td>1</td>\n",
       "      <td>0.9570</td>\n",
       "      <td>0.797</td>\n",
       "      <td>0.0000</td>\n",
       "      <td>0.148</td>\n",
       "      <td>0.655</td>\n",
       "      <td>102.009</td>\n",
       "      <td>1</td>\n",
       "    </tr>\n",
       "    <tr>\n",
       "      <th>2</th>\n",
       "      <td>0</td>\n",
       "      <td>181640</td>\n",
       "      <td>0</td>\n",
       "      <td>0.434</td>\n",
       "      <td>0.1770</td>\n",
       "      <td>1</td>\n",
       "      <td>-21.180</td>\n",
       "      <td>1</td>\n",
       "      <td>0.0512</td>\n",
       "      <td>0.994</td>\n",
       "      <td>0.0218</td>\n",
       "      <td>0.212</td>\n",
       "      <td>0.457</td>\n",
       "      <td>130.418</td>\n",
       "      <td>5</td>\n",
       "    </tr>\n",
       "    <tr>\n",
       "      <th>3</th>\n",
       "      <td>0</td>\n",
       "      <td>176907</td>\n",
       "      <td>0</td>\n",
       "      <td>0.321</td>\n",
       "      <td>0.0946</td>\n",
       "      <td>7</td>\n",
       "      <td>-27.961</td>\n",
       "      <td>1</td>\n",
       "      <td>0.0504</td>\n",
       "      <td>0.995</td>\n",
       "      <td>0.9180</td>\n",
       "      <td>0.104</td>\n",
       "      <td>0.397</td>\n",
       "      <td>169.980</td>\n",
       "      <td>3</td>\n",
       "    </tr>\n",
       "    <tr>\n",
       "      <th>4</th>\n",
       "      <td>0</td>\n",
       "      <td>163080</td>\n",
       "      <td>0</td>\n",
       "      <td>0.402</td>\n",
       "      <td>0.1580</td>\n",
       "      <td>3</td>\n",
       "      <td>-16.900</td>\n",
       "      <td>0</td>\n",
       "      <td>0.0390</td>\n",
       "      <td>0.989</td>\n",
       "      <td>0.1300</td>\n",
       "      <td>0.311</td>\n",
       "      <td>0.196</td>\n",
       "      <td>103.220</td>\n",
       "      <td>4</td>\n",
       "    </tr>\n",
       "  </tbody>\n",
       "</table>\n",
       "</div>"
      ],
      "text/plain": [
       "   popularity  duration_ms  explicit  danceability  energy  key  loudness  \\\n",
       "0           6       126903         0         0.645  0.4450    0   -13.338   \n",
       "1           0        98200         0         0.695  0.2630    0   -22.136   \n",
       "2           0       181640         0         0.434  0.1770    1   -21.180   \n",
       "3           0       176907         0         0.321  0.0946    7   -27.961   \n",
       "4           0       163080         0         0.402  0.1580    3   -16.900   \n",
       "\n",
       "   mode  speechiness  acousticness  instrumentalness  liveness  valence  \\\n",
       "0     1       0.4510         0.674            0.7440     0.151    0.127   \n",
       "1     1       0.9570         0.797            0.0000     0.148    0.655   \n",
       "2     1       0.0512         0.994            0.0218     0.212    0.457   \n",
       "3     1       0.0504         0.995            0.9180     0.104    0.397   \n",
       "4     0       0.0390         0.989            0.1300     0.311    0.196   \n",
       "\n",
       "     tempo  time_signature  \n",
       "0  104.851               3  \n",
       "1  102.009               1  \n",
       "2  130.418               5  \n",
       "3  169.980               3  \n",
       "4  103.220               4  "
      ]
     },
     "execution_count": 6,
     "metadata": {},
     "output_type": "execute_result"
    }
   ],
   "source": [
    "songs_1.head()"
   ]
  },
  {
   "cell_type": "code",
   "execution_count": 7,
   "id": "c1c0d997",
   "metadata": {},
   "outputs": [
    {
     "name": "stdout",
     "output_type": "stream",
     "text": [
      "<class 'pandas.core.frame.DataFrame'>\n",
      "RangeIndex: 10000 entries, 0 to 9999\n",
      "Data columns (total 15 columns):\n",
      " #   Column            Non-Null Count  Dtype  \n",
      "---  ------            --------------  -----  \n",
      " 0   popularity        10000 non-null  int64  \n",
      " 1   duration_ms       10000 non-null  int64  \n",
      " 2   explicit          10000 non-null  int64  \n",
      " 3   danceability      10000 non-null  float64\n",
      " 4   energy            10000 non-null  float64\n",
      " 5   key               10000 non-null  int64  \n",
      " 6   loudness          10000 non-null  float64\n",
      " 7   mode              10000 non-null  int64  \n",
      " 8   speechiness       10000 non-null  float64\n",
      " 9   acousticness      10000 non-null  float64\n",
      " 10  instrumentalness  10000 non-null  float64\n",
      " 11  liveness          10000 non-null  float64\n",
      " 12  valence           10000 non-null  float64\n",
      " 13  tempo             10000 non-null  float64\n",
      " 14  time_signature    10000 non-null  int64  \n",
      "dtypes: float64(9), int64(6)\n",
      "memory usage: 1.1 MB\n"
     ]
    }
   ],
   "source": [
    "songs_1.info()"
   ]
  },
  {
   "cell_type": "code",
   "execution_count": 8,
   "id": "db6e41f7",
   "metadata": {},
   "outputs": [
    {
     "data": {
      "text/html": [
       "<div>\n",
       "<style scoped>\n",
       "    .dataframe tbody tr th:only-of-type {\n",
       "        vertical-align: middle;\n",
       "    }\n",
       "\n",
       "    .dataframe tbody tr th {\n",
       "        vertical-align: top;\n",
       "    }\n",
       "\n",
       "    .dataframe thead th {\n",
       "        text-align: right;\n",
       "    }\n",
       "</style>\n",
       "<table border=\"1\" class=\"dataframe\">\n",
       "  <thead>\n",
       "    <tr style=\"text-align: right;\">\n",
       "      <th></th>\n",
       "      <th>popularity</th>\n",
       "      <th>duration_ms</th>\n",
       "      <th>explicit</th>\n",
       "      <th>danceability</th>\n",
       "      <th>energy</th>\n",
       "      <th>key</th>\n",
       "      <th>loudness</th>\n",
       "      <th>mode</th>\n",
       "      <th>speechiness</th>\n",
       "      <th>acousticness</th>\n",
       "      <th>instrumentalness</th>\n",
       "      <th>liveness</th>\n",
       "      <th>valence</th>\n",
       "      <th>tempo</th>\n",
       "      <th>time_signature</th>\n",
       "    </tr>\n",
       "  </thead>\n",
       "  <tbody>\n",
       "    <tr>\n",
       "      <th>count</th>\n",
       "      <td>10000.000000</td>\n",
       "      <td>1.000000e+04</td>\n",
       "      <td>10000.000000</td>\n",
       "      <td>10000.000000</td>\n",
       "      <td>10000.000000</td>\n",
       "      <td>10000.000000</td>\n",
       "      <td>10000.000000</td>\n",
       "      <td>10000.000000</td>\n",
       "      <td>10000.000000</td>\n",
       "      <td>10000.000000</td>\n",
       "      <td>10000.000000</td>\n",
       "      <td>10000.000000</td>\n",
       "      <td>10000.000000</td>\n",
       "      <td>10000.000000</td>\n",
       "      <td>10000.000000</td>\n",
       "    </tr>\n",
       "    <tr>\n",
       "      <th>mean</th>\n",
       "      <td>1.858200</td>\n",
       "      <td>1.874455e+05</td>\n",
       "      <td>0.003200</td>\n",
       "      <td>0.587822</td>\n",
       "      <td>0.264799</td>\n",
       "      <td>4.923100</td>\n",
       "      <td>-15.383102</td>\n",
       "      <td>0.719500</td>\n",
       "      <td>0.285093</td>\n",
       "      <td>0.872792</td>\n",
       "      <td>0.277878</td>\n",
       "      <td>0.210865</td>\n",
       "      <td>0.586810</td>\n",
       "      <td>111.385041</td>\n",
       "      <td>3.753300</td>\n",
       "    </tr>\n",
       "    <tr>\n",
       "      <th>std</th>\n",
       "      <td>5.160538</td>\n",
       "      <td>9.556028e+04</td>\n",
       "      <td>0.056481</td>\n",
       "      <td>0.162751</td>\n",
       "      <td>0.150744</td>\n",
       "      <td>3.473211</td>\n",
       "      <td>5.411000</td>\n",
       "      <td>0.449266</td>\n",
       "      <td>0.365323</td>\n",
       "      <td>0.197037</td>\n",
       "      <td>0.373015</td>\n",
       "      <td>0.150143</td>\n",
       "      <td>0.234606</td>\n",
       "      <td>31.125500</td>\n",
       "      <td>0.698633</td>\n",
       "    </tr>\n",
       "    <tr>\n",
       "      <th>min</th>\n",
       "      <td>0.000000</td>\n",
       "      <td>3.344000e+03</td>\n",
       "      <td>0.000000</td>\n",
       "      <td>0.000000</td>\n",
       "      <td>0.000000</td>\n",
       "      <td>0.000000</td>\n",
       "      <td>-60.000000</td>\n",
       "      <td>0.000000</td>\n",
       "      <td>0.000000</td>\n",
       "      <td>0.000000</td>\n",
       "      <td>0.000000</td>\n",
       "      <td>0.000000</td>\n",
       "      <td>0.000000</td>\n",
       "      <td>0.000000</td>\n",
       "      <td>0.000000</td>\n",
       "    </tr>\n",
       "    <tr>\n",
       "      <th>25%</th>\n",
       "      <td>0.000000</td>\n",
       "      <td>1.509960e+05</td>\n",
       "      <td>0.000000</td>\n",
       "      <td>0.479000</td>\n",
       "      <td>0.165000</td>\n",
       "      <td>2.000000</td>\n",
       "      <td>-19.363000</td>\n",
       "      <td>0.000000</td>\n",
       "      <td>0.046400</td>\n",
       "      <td>0.840000</td>\n",
       "      <td>0.000000</td>\n",
       "      <td>0.112000</td>\n",
       "      <td>0.416000</td>\n",
       "      <td>86.691500</td>\n",
       "      <td>4.000000</td>\n",
       "    </tr>\n",
       "    <tr>\n",
       "      <th>50%</th>\n",
       "      <td>0.000000</td>\n",
       "      <td>1.774930e+05</td>\n",
       "      <td>0.000000</td>\n",
       "      <td>0.629000</td>\n",
       "      <td>0.241000</td>\n",
       "      <td>5.000000</td>\n",
       "      <td>-15.002000</td>\n",
       "      <td>1.000000</td>\n",
       "      <td>0.076000</td>\n",
       "      <td>0.970000</td>\n",
       "      <td>0.007370</td>\n",
       "      <td>0.157000</td>\n",
       "      <td>0.619000</td>\n",
       "      <td>111.208500</td>\n",
       "      <td>4.000000</td>\n",
       "    </tr>\n",
       "    <tr>\n",
       "      <th>75%</th>\n",
       "      <td>1.000000</td>\n",
       "      <td>1.943580e+05</td>\n",
       "      <td>0.000000</td>\n",
       "      <td>0.710000</td>\n",
       "      <td>0.327000</td>\n",
       "      <td>8.000000</td>\n",
       "      <td>-11.475000</td>\n",
       "      <td>1.000000</td>\n",
       "      <td>0.356000</td>\n",
       "      <td>0.992000</td>\n",
       "      <td>0.689000</td>\n",
       "      <td>0.264250</td>\n",
       "      <td>0.772000</td>\n",
       "      <td>126.702250</td>\n",
       "      <td>4.000000</td>\n",
       "    </tr>\n",
       "    <tr>\n",
       "      <th>max</th>\n",
       "      <td>65.000000</td>\n",
       "      <td>3.093226e+06</td>\n",
       "      <td>1.000000</td>\n",
       "      <td>0.956000</td>\n",
       "      <td>1.000000</td>\n",
       "      <td>11.000000</td>\n",
       "      <td>0.674000</td>\n",
       "      <td>1.000000</td>\n",
       "      <td>0.969000</td>\n",
       "      <td>0.996000</td>\n",
       "      <td>0.993000</td>\n",
       "      <td>0.973000</td>\n",
       "      <td>0.986000</td>\n",
       "      <td>221.741000</td>\n",
       "      <td>5.000000</td>\n",
       "    </tr>\n",
       "  </tbody>\n",
       "</table>\n",
       "</div>"
      ],
      "text/plain": [
       "         popularity   duration_ms      explicit  danceability        energy  \\\n",
       "count  10000.000000  1.000000e+04  10000.000000  10000.000000  10000.000000   \n",
       "mean       1.858200  1.874455e+05      0.003200      0.587822      0.264799   \n",
       "std        5.160538  9.556028e+04      0.056481      0.162751      0.150744   \n",
       "min        0.000000  3.344000e+03      0.000000      0.000000      0.000000   \n",
       "25%        0.000000  1.509960e+05      0.000000      0.479000      0.165000   \n",
       "50%        0.000000  1.774930e+05      0.000000      0.629000      0.241000   \n",
       "75%        1.000000  1.943580e+05      0.000000      0.710000      0.327000   \n",
       "max       65.000000  3.093226e+06      1.000000      0.956000      1.000000   \n",
       "\n",
       "                key      loudness          mode   speechiness  acousticness  \\\n",
       "count  10000.000000  10000.000000  10000.000000  10000.000000  10000.000000   \n",
       "mean       4.923100    -15.383102      0.719500      0.285093      0.872792   \n",
       "std        3.473211      5.411000      0.449266      0.365323      0.197037   \n",
       "min        0.000000    -60.000000      0.000000      0.000000      0.000000   \n",
       "25%        2.000000    -19.363000      0.000000      0.046400      0.840000   \n",
       "50%        5.000000    -15.002000      1.000000      0.076000      0.970000   \n",
       "75%        8.000000    -11.475000      1.000000      0.356000      0.992000   \n",
       "max       11.000000      0.674000      1.000000      0.969000      0.996000   \n",
       "\n",
       "       instrumentalness      liveness       valence         tempo  \\\n",
       "count      10000.000000  10000.000000  10000.000000  10000.000000   \n",
       "mean           0.277878      0.210865      0.586810    111.385041   \n",
       "std            0.373015      0.150143      0.234606     31.125500   \n",
       "min            0.000000      0.000000      0.000000      0.000000   \n",
       "25%            0.000000      0.112000      0.416000     86.691500   \n",
       "50%            0.007370      0.157000      0.619000    111.208500   \n",
       "75%            0.689000      0.264250      0.772000    126.702250   \n",
       "max            0.993000      0.973000      0.986000    221.741000   \n",
       "\n",
       "       time_signature  \n",
       "count    10000.000000  \n",
       "mean         3.753300  \n",
       "std          0.698633  \n",
       "min          0.000000  \n",
       "25%          4.000000  \n",
       "50%          4.000000  \n",
       "75%          4.000000  \n",
       "max          5.000000  "
      ]
     },
     "execution_count": 8,
     "metadata": {},
     "output_type": "execute_result"
    }
   ],
   "source": [
    "songs_1.describe()"
   ]
  },
  {
   "cell_type": "code",
   "execution_count": 9,
   "id": "76e42bf5",
   "metadata": {},
   "outputs": [
    {
     "data": {
      "text/plain": [
       "0     7162\n",
       "1      952\n",
       "2      309\n",
       "3      222\n",
       "5      156\n",
       "4      141\n",
       "9      102\n",
       "6      100\n",
       "8       96\n",
       "11      89\n",
       "10      84\n",
       "7       74\n",
       "13      55\n",
       "12      52\n",
       "17      47\n",
       "15      41\n",
       "14      39\n",
       "16      38\n",
       "19      30\n",
       "18      21\n",
       "20      19\n",
       "23      18\n",
       "22      14\n",
       "26      14\n",
       "21      13\n",
       "28      11\n",
       "24      11\n",
       "30       9\n",
       "29       9\n",
       "27       8\n",
       "36       7\n",
       "33       7\n",
       "25       5\n",
       "31       5\n",
       "51       5\n",
       "34       4\n",
       "32       4\n",
       "42       3\n",
       "40       3\n",
       "38       2\n",
       "47       2\n",
       "43       2\n",
       "37       2\n",
       "35       2\n",
       "41       2\n",
       "53       2\n",
       "48       2\n",
       "65       1\n",
       "39       1\n",
       "50       1\n",
       "55       1\n",
       "45       1\n",
       "Name: popularity, dtype: int64"
      ]
     },
     "execution_count": 9,
     "metadata": {},
     "output_type": "execute_result"
    }
   ],
   "source": [
    "songs_1['popularity'].value_counts()"
   ]
  },
  {
   "cell_type": "code",
   "execution_count": 10,
   "id": "fc1aee9c",
   "metadata": {},
   "outputs": [],
   "source": [
    "from sklearn.model_selection import train_test_split,StratifiedShuffleSplit\n",
    "train_set,test_set=train_test_split(songs_1,test_size=0.2,random_state=42)"
   ]
  },
  {
   "cell_type": "code",
   "execution_count": 11,
   "id": "fef731ca",
   "metadata": {},
   "outputs": [
    {
     "name": "stdout",
     "output_type": "stream",
     "text": [
      "8000 2000\n"
     ]
    }
   ],
   "source": [
    "print(len(train_set),len(test_set))"
   ]
  },
  {
   "cell_type": "code",
   "execution_count": 12,
   "id": "d5d88e7c",
   "metadata": {},
   "outputs": [],
   "source": [
    "split = StratifiedShuffleSplit(n_splits=1,test_size=0.2,random_state=42)\n",
    "for train_index,test_index in split.split(songs_1,songs_1['explicit']):\n",
    "    strat_train_set=songs_1.loc[train_index]\n",
    "    strat_test_set=songs_1.loc[test_index]"
   ]
  },
  {
   "cell_type": "code",
   "execution_count": 13,
   "id": "6c7ff0a6",
   "metadata": {},
   "outputs": [
    {
     "data": {
      "text/plain": [
       "0    1994\n",
       "1       6\n",
       "Name: explicit, dtype: int64"
      ]
     },
     "execution_count": 13,
     "metadata": {},
     "output_type": "execute_result"
    }
   ],
   "source": [
    "strat_test_set['explicit'].value_counts()"
   ]
  },
  {
   "cell_type": "code",
   "execution_count": 14,
   "id": "b8289d7d",
   "metadata": {},
   "outputs": [
    {
     "data": {
      "text/plain": [
       "popularity          1.000000\n",
       "loudness            0.097075\n",
       "acousticness        0.073540\n",
       "time_signature      0.064721\n",
       "tempo               0.021912\n",
       "duration_ms         0.021387\n",
       "danceability        0.011597\n",
       "mode                0.011313\n",
       "explicit            0.009449\n",
       "key                 0.004737\n",
       "instrumentalness   -0.020825\n",
       "liveness           -0.028761\n",
       "valence            -0.035095\n",
       "energy             -0.043952\n",
       "speechiness        -0.182041\n",
       "Name: popularity, dtype: float64"
      ]
     },
     "execution_count": 14,
     "metadata": {},
     "output_type": "execute_result"
    }
   ],
   "source": [
    "corr_matrix=songs_1.corr()\n",
    "corr_matrix['popularity'].sort_values(ascending=False)"
   ]
  },
  {
   "cell_type": "code",
   "execution_count": 15,
   "id": "30731a51",
   "metadata": {},
   "outputs": [
    {
     "data": {
      "text/plain": [
       "<AxesSubplot:xlabel='acousticness', ylabel='popularity'>"
      ]
     },
     "execution_count": 15,
     "metadata": {},
     "output_type": "execute_result"
    },
    {
     "data": {
      "image/png": "[encoded data removed]",
      "text/plain": [
       "<Figure size 640x480 with 1 Axes>"
      ]
     },
     "metadata": {},
     "output_type": "display_data"
    }
   ],
   "source": [
    "songs_1.plot(kind=\"scatter\",x=\"acousticness\",y=\"popularity\",alpha=0.8)"
   ]
  },
  {
   "cell_type": "code",
   "execution_count": 16,
   "id": "2f3906cf",
   "metadata": {},
   "outputs": [
    {
     "data": {
      "text/plain": [
       "<AxesSubplot:xlabel='loudness', ylabel='popularity'>"
      ]
     },
     "execution_count": 16,
     "metadata": {},
     "output_type": "execute_result"
    },
    {
     "data": {
      "image/png": "[encoded data removed]",
      "text/plain": [
       "<Figure size 640x480 with 1 Axes>"
      ]
     },
     "metadata": {},
     "output_type": "display_data"
    }
   ],
   "source": [
    "songs_1.plot(kind=\"scatter\",x=\"loudness\",y=\"popularity\",alpha=0.8)"
   ]
  },
  {
   "cell_type": "code",
   "execution_count": 17,
   "id": "f9fd6c5e",
   "metadata": {},
   "outputs": [],
   "source": [
    "songs_1=strat_train_set.drop(\"popularity\",axis=1)\n",
    "songs_1_label=strat_train_set[\"popularity\"].copy()\n",
    "# strat_train_set"
   ]
  },
  {
   "cell_type": "code",
   "execution_count": 18,
   "id": "79b3a42a",
   "metadata": {},
   "outputs": [],
   "source": [
    "from sklearn.pipeline import Pipeline\n",
    "from sklearn.preprocessing import StandardScaler\n",
    "from sklearn.impute import SimpleImputer\n"
   ]
  },
  {
   "cell_type": "code",
   "execution_count": 19,
   "id": "ddfdccde",
   "metadata": {},
   "outputs": [],
   "source": [
    "my_pipeline = Pipeline([(\"imputer\",SimpleImputer(strategy=\"median\")),(\"std_scalar\",StandardScaler())])"
   ]
  },
  {
   "cell_type": "code",
   "execution_count": 20,
   "id": "095ae759",
   "metadata": {},
   "outputs": [],
   "source": [
    "songs_1_num_tr=my_pipeline.fit_transform(songs_1)"
   ]
  },
  {
   "cell_type": "code",
   "execution_count": 21,
   "id": "5f5a450e",
   "metadata": {},
   "outputs": [
    {
     "data": {
      "text/plain": [
       "array([[-0.06085144, -0.05710164,  0.73589508, ..., -0.9114104 ,\n",
       "         0.49507433, -1.05852339],\n",
       "       [ 0.42171209, 17.5126328 ,  1.06692789, ..., -0.92846813,\n",
       "        -1.0986841 ,  0.35827218],\n",
       "       [-0.061345  , -0.05710164, -0.4411105 , ...,  0.98626316,\n",
       "        -0.9921271 ,  0.35827218],\n",
       "       ...,\n",
       "       [-0.21312064, -0.05710164, -1.86332558, ..., -0.18645645,\n",
       "        -0.91257097,  0.35827218],\n",
       "       [-0.19080958, -0.05710164, -0.39819884, ..., -0.13528323,\n",
       "        -1.22468816,  0.35827218],\n",
       "       [-0.58407851, -0.05710164,  0.72976484, ...,  0.13337617,\n",
       "        -0.46811738, -1.05852339]])"
      ]
     },
     "execution_count": 21,
     "metadata": {},
     "output_type": "execute_result"
    }
   ],
   "source": [
    "songs_1_num_tr"
   ]
  },
  {
   "cell_type": "code",
   "execution_count": 22,
   "id": "4d9a3291",
   "metadata": {},
   "outputs": [],
   "source": [
    "from sklearn.linear_model import LinearRegression\n",
    "from sklearn.tree import DecisionTreeRegressor\n",
    "from sklearn.ensemble import RandomForestClassifier\n",
    "from sklearn.svm import SVC\n",
    "model = RandomForestClassifier()"
   ]
  },
  {
   "cell_type": "code",
   "execution_count": 23,
   "id": "dc59590a",
   "metadata": {},
   "outputs": [
    {
     "data": {
      "text/plain": [
       "RandomForestClassifier()"
      ]
     },
     "execution_count": 23,
     "metadata": {},
     "output_type": "execute_result"
    }
   ],
   "source": [
    "model.fit(songs_1_num_tr,songs_1_label)"
   ]
  },
  {
   "cell_type": "code",
   "execution_count": 24,
   "id": "aa102dbe",
   "metadata": {},
   "outputs": [],
   "source": [
    "some_data=songs_1.iloc[:5]\n",
    "some_label=songs_1_label.iloc[:5]\n",
    "prepared_data=my_pipeline.transform(some_data)"
   ]
  },
  {
   "cell_type": "code",
   "execution_count": 25,
   "id": "d7f38271",
   "metadata": {},
   "outputs": [
    {
     "data": {
      "text/plain": [
       "array([0, 0, 0, 7, 1], dtype=int64)"
      ]
     },
     "execution_count": 25,
     "metadata": {},
     "output_type": "execute_result"
    }
   ],
   "source": [
    "model.predict(prepared_data)"
   ]
  },
  {
   "cell_type": "code",
   "execution_count": 26,
   "id": "b31d7a23",
   "metadata": {},
   "outputs": [
    {
     "data": {
      "text/plain": [
       "1059    0\n",
       "5907    0\n",
       "1073    0\n",
       "8852    7\n",
       "6208    1\n",
       "Name: popularity, dtype: int64"
      ]
     },
     "execution_count": 26,
     "metadata": {},
     "output_type": "execute_result"
    }
   ],
   "source": [
    "some_label"
   ]
  },
  {
   "cell_type": "code",
   "execution_count": 27,
   "id": "5d62886e",
   "metadata": {},
   "outputs": [],
   "source": [
    "from sklearn.metrics import mean_squared_error"
   ]
  },
  {
   "cell_type": "code",
   "execution_count": 28,
   "id": "f2e3897e",
   "metadata": {},
   "outputs": [
    {
     "data": {
      "text/plain": [
       "1.7367714299815045"
      ]
     },
     "execution_count": 28,
     "metadata": {},
     "output_type": "execute_result"
    }
   ],
   "source": [
    "songs_1_prediction=model.predict(songs_1_num_tr)\n",
    "mse=mean_squared_error(songs_1_label,songs_1_prediction)\n",
    "rmse=np.sqrt(mse)\n",
    "rmse"
   ]
  },
  {
   "cell_type": "code",
   "execution_count": 29,
   "id": "ec93cd0d",
   "metadata": {},
   "outputs": [
    {
     "name": "stderr",
     "output_type": "stream",
     "text": [
      "D:\\Shagufa\\anaconda\\lib\\site-packages\\sklearn\\model_selection\\_split.py:676: UserWarning: The least populated class in y has only 1 members, which is less than n_splits=5.\n",
      "  warnings.warn(\n"
     ]
    },
    {
     "data": {
      "text/plain": [
       "array([5.47825246, 5.36732009, 5.53838875, 5.51140862, 5.34643573])"
      ]
     },
     "execution_count": 29,
     "metadata": {},
     "output_type": "execute_result"
    }
   ],
   "source": [
    "from sklearn.model_selection import cross_val_score\n",
    "scores=cross_val_score(model,songs_1_num_tr,songs_1_label,scoring=\"neg_mean_squared_error\")\n",
    "rmse_score=np.sqrt(-scores)\n",
    "rmse_score"
   ]
  },
  {
   "cell_type": "code",
   "execution_count": 30,
   "id": "5d062e20",
   "metadata": {},
   "outputs": [
    {
     "data": {
      "text/plain": [
       "array([0, 0, 0, ..., 0, 0, 8], dtype=int64)"
      ]
     },
     "execution_count": 30,
     "metadata": {},
     "output_type": "execute_result"
    }
   ],
   "source": [
    "x_test=strat_test_set.drop('popularity',axis=1)\n",
    "y_test=strat_test_set['popularity'].copy()\n",
    "x_test_prepared=my_pipeline.transform(x_test)\n",
    "final_prediction=model.predict(x_test_prepared)\n",
    "final_prediction"
   ]
  },
  {
   "cell_type": "code",
   "execution_count": 31,
   "id": "99919e1f",
   "metadata": {},
   "outputs": [
    {
     "data": {
      "text/plain": [
       "4.9129420920666265"
      ]
     },
     "execution_count": 31,
     "metadata": {},
     "output_type": "execute_result"
    }
   ],
   "source": [
    "final_mse=mean_squared_error(y_test,final_prediction)\n",
    "final_rmse=np.sqrt(final_mse)\n",
    "final_rmse"
   ]
  },
  {
   "cell_type": "code",
   "execution_count": 32,
   "id": "039afe81",
   "metadata": {},
   "outputs": [
    {
     "data": {
      "text/plain": [
       "['songs_1.joblib']"
      ]
     },
     "execution_count": 32,
     "metadata": {},
     "output_type": "execute_result"
    }
   ],
   "source": [
    "from joblib import load,dump\n",
    "dump(model,'songs_1.joblib')"
   ]
  },
  {
   "cell_type": "code",
   "execution_count": 33,
   "id": "aa3288b2",
   "metadata": {},
   "outputs": [
    {
     "data": {
      "text/plain": [
       "array([0], dtype=int64)"
      ]
     },
     "execution_count": 33,
     "metadata": {},
     "output_type": "execute_result"
    }
   ],
   "source": [
    "features=np.array([[126903,0,0.645,0.4450,0,-13.338,1,0.4510,0.674,0.7440,0.151,0.127,104.851,3]])\n",
    "model.predict(features)"
   ]
  },
  {
   "cell_type": "code",
   "execution_count": 34,
   "id": "4526e1ce",
   "metadata": {},
   "outputs": [
    {
     "data": {
      "text/plain": [
       "(8000, 14)"
      ]
     },
     "execution_count": 34,
     "metadata": {},
     "output_type": "execute_result"
    }
   ],
   "source": [
    "songs_1.shape"
   ]
  },
  {
   "cell_type": "code",
   "execution_count": null,
   "id": "6344d7ab",
   "metadata": {},
   "outputs": [],
   "source": []
  }
 ],
 "metadata": {
  "kernelspec": {
   "display_name": "Python 3 (ipykernel)",
   "language": "python",
   "name": "python3"
  },
  "language_info": {
   "codemirror_mode": {
    "name": "ipython",
    "version": 3
   },
   "file_extension": ".py",
   "mimetype": "text/x-python",
   "name": "python",
   "nbconvert_exporter": "python",
   "pygments_lexer": "ipython3",
   "version": "3.9.13"
  }
 },
 "nbformat": 4,
 "nbformat_minor": 5
}
